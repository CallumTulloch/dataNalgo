{
 "cells": [
  {
   "cell_type": "code",
   "execution_count": 16,
   "metadata": {},
   "outputs": [],
   "source": [
    "from IPython import InteractiveShell # 1\n",
    "import numpy as np\n",
    "np.set_printoptions(threshold=10000)\n",
    "InteractiveShell.ast_node_interactivity = \"all\""
   ]
  },
  {
   "cell_type": "markdown",
   "metadata": {},
   "source": [
    "## データ成型"
   ]
  },
  {
   "cell_type": "code",
   "execution_count": 17,
   "metadata": {},
   "outputs": [
    {
     "data": {
      "text/plain": [
       "(array([[0, 1, 2],\n",
       "        [3, 4, 5],\n",
       "        [6, 7, 8]]),\n",
       " array([[0.80970373, 0.53035029, 0.80614529],\n",
       "        [0.62506989, 0.92417974, 0.16216464],\n",
       "        [0.39540058, 0.4010633 , 0.94732993]]),\n",
       " array([[1., 1., 1.],\n",
       "        [1., 1., 1.],\n",
       "        [1., 1., 1.]]),\n",
       " array([[8, 9, 4],\n",
       "        [0, 6, 0],\n",
       "        [0, 5, 3]], dtype=int16))"
      ]
     },
     "execution_count": 17,
     "metadata": {},
     "output_type": "execute_result"
    }
   ],
   "source": [
    "# 基本的に引数の与え方は以下のみであるため注意すること\n",
    "a = np.arange(9).reshape(3,3)   # 要素数のみ\n",
    "c = np.ones([3,3])              # 要素数 or shape\n",
    "b = np.random.rand(3,3)         # 各次元数\n",
    "d = np.random.randint(0, 10, 3*3, dtype=np.int16).reshape(3,3)  # min, max, 要素数\n",
    "a,b,c,d"
   ]
  },
  {
   "cell_type": "code",
   "execution_count": 18,
   "metadata": {},
   "outputs": [
    {
     "name": "stdout",
     "output_type": "stream",
     "text": [
      "Object `np.random.add` not found.\n"
     ]
    }
   ],
   "source": [
    "np.random.add?"
   ]
  },
  {
   "cell_type": "markdown",
   "metadata": {},
   "source": [
    "## 計算"
   ]
  },
  {
   "cell_type": "code",
   "execution_count": 19,
   "metadata": {},
   "outputs": [
    {
     "data": {
      "text/plain": [
       "(array([[0.        , 0.62051102, 1.82741564],\n",
       "        [2.67023721, 2.626105  , 3.2571794 ],\n",
       "        [2.06214565, 4.21669027, 4.81691497]]),\n",
       " array([[ 1.57746095,  1.8612949 ,  1.85566462],\n",
       "        [ 7.25779708,  7.49955969,  8.35743884],\n",
       "        [12.9381332 , 13.13782447, 14.85921306]]),\n",
       " array([ 2.44792667,  8.55352161, 11.09575089]),\n",
       " 22.097199166444607)"
      ]
     },
     "execution_count": 19,
     "metadata": {},
     "output_type": "execute_result"
    }
   ],
   "source": [
    "a = np.arange(9).reshape(3,3)\n",
    "b = np.random.rand(3,3)\n",
    "c = a * b   # 対応する要素同士の乗算\n",
    "d = np.dot(a,b) # 内積\n",
    "c,d,c.sum(axis=1), c.sum() # 和"
   ]
  },
  {
   "cell_type": "code",
   "execution_count": 13,
   "metadata": {},
   "outputs": [
    {
     "data": {
      "text/plain": [
       "array([[0.        , 1.        , 2.        ],\n",
       "       [3.        , 4.        , 5.        ],\n",
       "       [6.        , 7.        , 8.        ],\n",
       "       [0.67195443, 0.88132888, 0.91288721],\n",
       "       [0.1236673 , 0.87955314, 0.86311557],\n",
       "       [0.27253711, 0.11010624, 0.71185979]])"
      ]
     },
     "execution_count": 13,
     "metadata": {},
     "output_type": "execute_result"
    }
   ],
   "source": [
    "np.vstack([a,b])"
   ]
  },
  {
   "cell_type": "markdown",
   "metadata": {},
   "source": [
    "## 結合"
   ]
  },
  {
   "cell_type": "code",
   "execution_count": 14,
   "metadata": {},
   "outputs": [
    {
     "data": {
      "text/plain": [
       "array([[0.        , 1.        , 2.        ],\n",
       "       [3.        , 4.        , 5.        ],\n",
       "       [6.        , 7.        , 8.        ],\n",
       "       [0.67195443, 0.88132888, 0.91288721],\n",
       "       [0.1236673 , 0.87955314, 0.86311557],\n",
       "       [0.27253711, 0.11010624, 0.71185979]])"
      ]
     },
     "execution_count": 14,
     "metadata": {},
     "output_type": "execute_result"
    },
    {
     "data": {
      "text/plain": [
       "array([[0.        , 1.        , 2.        , 3.        , 4.        ,\n",
       "        5.        , 6.        , 7.        , 8.        ],\n",
       "       [0.84973474, 0.49977782, 0.45506906, 0.69382659, 0.14936828,\n",
       "        0.71922845, 0.96197927, 0.94179181, 0.94429892]])"
      ]
     },
     "execution_count": 14,
     "metadata": {},
     "output_type": "execute_result"
    }
   ],
   "source": [
    "# hstack, vstack など忘れていい．axisで指定した次元が変化すると覚える．つまり,axis = 0なら行が変化する．\n",
    "np.concatenate([a, b], axis=0)\n",
    "\n",
    "# 1次元配列は結合できないため，vstack を利用するかnewaxisで次元を作る必要がある．\n",
    "a = np.arange(9)\n",
    "b = np.random.rand(9)\n",
    "np.concatenate([a[np.newaxis, :], b[np.newaxis, :]], axis=0)"
   ]
  },
  {
   "cell_type": "markdown",
   "metadata": {},
   "source": [
    "## 操作"
   ]
  },
  {
   "cell_type": "code",
   "execution_count": 15,
   "metadata": {},
   "outputs": [
    {
     "data": {
      "text/plain": [
       "array([[0, 3, 6],\n",
       "       [1, 4, 7],\n",
       "       [2, 5, 8]])"
      ]
     },
     "execution_count": 15,
     "metadata": {},
     "output_type": "execute_result"
    },
    {
     "data": {
      "text/plain": [
       "(array([[6, 3, 0],\n",
       "        [7, 4, 1],\n",
       "        [8, 5, 2]]),\n",
       " array([[6, 3, 0],\n",
       "        [7, 4, 1],\n",
       "        [8, 5, 2]]))"
      ]
     },
     "execution_count": 15,
     "metadata": {},
     "output_type": "execute_result"
    },
    {
     "name": "stdout",
     "output_type": "stream",
     "text": [
      "--------------------------------------\n"
     ]
    },
    {
     "data": {
      "text/plain": [
       "(array([0, 1, 2, 3, 4, 5, 6, 7, 8, 9]),\n",
       " array([9, 8, 7, 6, 5, 4, 3, 2, 1, 0]),\n",
       " array([6, 5, 4, 3]),\n",
       " array([9, 8, 7, 6, 5, 4, 3, 2, 1, 0]))"
      ]
     },
     "execution_count": 15,
     "metadata": {},
     "output_type": "execute_result"
    }
   ],
   "source": [
    "a = np.arange(9).reshape(3,3)\n",
    "a.T # 転地\n",
    "np.rot90(a, -1), a.T[:, ::-1]  # 90度時計回りに回転, 転地して行と列を入れ替え＋各行に対して，その要素を逆順にする．\n",
    "print('--------------------------------------')\n",
    "a = np.arange(10)\n",
    "a, a[::-1], a[6:2:-1], a[-1::-1]   # start, end, step, 指定しない場合は：としておけばよい．\n"
   ]
  },
  {
   "cell_type": "markdown",
   "metadata": {},
   "source": [
    "## 属性・便利機能"
   ]
  },
  {
   "cell_type": "code",
   "execution_count": 24,
   "metadata": {},
   "outputs": [
    {
     "data": {
      "text/plain": [
       "9"
      ]
     },
     "execution_count": 24,
     "metadata": {},
     "output_type": "execute_result"
    },
    {
     "data": {
      "text/plain": [
       "(3, 3)"
      ]
     },
     "execution_count": 24,
     "metadata": {},
     "output_type": "execute_result"
    },
    {
     "data": {
      "text/plain": [
       "(0, 8)"
      ]
     },
     "execution_count": 24,
     "metadata": {},
     "output_type": "execute_result"
    },
    {
     "data": {
      "text/plain": [
       "(4.0, array([3., 4., 5.]))"
      ]
     },
     "execution_count": 24,
     "metadata": {},
     "output_type": "execute_result"
    },
    {
     "data": {
      "text/plain": [
       "36"
      ]
     },
     "execution_count": 24,
     "metadata": {},
     "output_type": "execute_result"
    }
   ],
   "source": [
    "a = np.arange(9).reshape(3,3)\n",
    "a.size\n",
    "a.shape\n",
    "a.min(), a.max()\n",
    "a.mean(), a.mean(axis=0)\n",
    "a.sum()"
   ]
  },
  {
   "cell_type": "markdown",
   "metadata": {},
   "source": [
    "## 条件"
   ]
  },
  {
   "cell_type": "code",
   "execution_count": 38,
   "metadata": {},
   "outputs": [
    {
     "data": {
      "text/plain": [
       "True"
      ]
     },
     "execution_count": 38,
     "metadata": {},
     "output_type": "execute_result"
    },
    {
     "name": "stdout",
     "output_type": "stream",
     "text": [
      "(array([3, 4], dtype=int64),)\n"
     ]
    },
    {
     "data": {
      "text/plain": [
       "array([10, 20, 30,  4,  5])"
      ]
     },
     "execution_count": 38,
     "metadata": {},
     "output_type": "execute_result"
    },
    {
     "data": {
      "text/plain": [
       "array([0, 0, 0, 4, 5])"
      ]
     },
     "execution_count": 38,
     "metadata": {},
     "output_type": "execute_result"
    }
   ],
   "source": [
    "# 条件\n",
    "a = np.array([1, 2, 3, 4, 5])\n",
    "a[0] > 0\n",
    "\n",
    "# indexの取り出し\n",
    "indices = np.where(a > 3)\n",
    "print(indices)\n",
    "\n",
    "# 条件で置き換え\n",
    "b = np.array([10, 20, 30, 40, 50])\n",
    "np.where(a > 3, a, b)\n",
    "np.where(a > 3, a, 0)"
   ]
  },
  {
   "cell_type": "markdown",
   "metadata": {},
   "source": [
    "## その他"
   ]
  },
  {
   "cell_type": "code",
   "execution_count": 27,
   "metadata": {},
   "outputs": [
    {
     "name": "stdout",
     "output_type": "stream",
     "text": [
      "800\n"
     ]
    },
    {
     "data": {
      "text/plain": [
       "(array([0, 1, 4], dtype=int64),)"
      ]
     },
     "execution_count": 27,
     "metadata": {},
     "output_type": "execute_result"
    },
    {
     "data": {
      "text/plain": [
       "array([[1., 0., 0.],\n",
       "       [0., 1., 0.],\n",
       "       [0., 0., 1.]])"
      ]
     },
     "execution_count": 27,
     "metadata": {},
     "output_type": "execute_result"
    },
    {
     "data": {
      "text/plain": [
       "(nan, False, False)"
      ]
     },
     "execution_count": 27,
     "metadata": {},
     "output_type": "execute_result"
    },
    {
     "data": {
      "text/plain": [
       "(nan, True, False)"
      ]
     },
     "execution_count": 27,
     "metadata": {},
     "output_type": "execute_result"
    },
    {
     "data": {
      "text/plain": [
       "array([[0, 0, 0, 0, 0, 0],\n",
       "       [1, 0, 0, 0, 0, 0],\n",
       "       [0, 2, 0, 0, 0, 0],\n",
       "       [0, 0, 3, 0, 0, 0],\n",
       "       [0, 0, 0, 4, 0, 0],\n",
       "       [0, 0, 0, 0, 5, 0]])"
      ]
     },
     "execution_count": 27,
     "metadata": {},
     "output_type": "execute_result"
    },
    {
     "data": {
      "text/plain": [
       "array([[0., 1., 0., 1., 0., 1., 0., 1.],\n",
       "       [1., 0., 1., 0., 1., 0., 1., 0.],\n",
       "       [0., 1., 0., 1., 0., 1., 0., 1.],\n",
       "       [1., 0., 1., 0., 1., 0., 1., 0.],\n",
       "       [0., 1., 0., 1., 0., 1., 0., 1.],\n",
       "       [1., 0., 1., 0., 1., 0., 1., 0.],\n",
       "       [0., 1., 0., 1., 0., 1., 0., 1.],\n",
       "       [1., 0., 1., 0., 1., 0., 1., 0.]])"
      ]
     },
     "execution_count": 27,
     "metadata": {},
     "output_type": "execute_result"
    },
    {
     "name": "stdout",
     "output_type": "stream",
     "text": [
      "(1, 5, 4)\n"
     ]
    },
    {
     "data": {
      "text/plain": [
       "array([[0.55841927, 0.        , 0.7024646 , 0.8635413 , 0.48277342],\n",
       "       [0.53159075, 0.76866794, 0.21001123, 0.11558093, 0.08756843],\n",
       "       [0.44288316, 0.36344499, 0.58584813, 0.05047388, 0.07024912],\n",
       "       [0.85028006, 0.93490885, 0.5547922 , 1.        , 0.09465422],\n",
       "       [0.47402274, 0.60620213, 0.45593635, 0.90032539, 0.20874287]])"
      ]
     },
     "execution_count": 27,
     "metadata": {},
     "output_type": "execute_result"
    },
    {
     "data": {
      "text/plain": [
       "array([[-1.32662561, -1.06886858, -0.91370528,  0.45760395,  0.3598539 ],\n",
       "       [-2.16317053,  0.18853777, -0.27019342,  1.55207699, -0.14158849],\n",
       "       [ 0.22106286,  0.16741414, -1.03618765,  1.50397393,  0.6450687 ],\n",
       "       [-0.01975813, -1.12772751,  0.57481191, -0.1709037 ,  1.83790418],\n",
       "       [ 0.64934405, -1.53116946, -0.33290544,  1.19609491,  0.74905648]])"
      ]
     },
     "execution_count": 27,
     "metadata": {},
     "output_type": "execute_result"
    }
   ],
   "source": [
    "# 4. How to find the memory size of any array (★☆☆)\n",
    "vector = np.zeros((10, 10))\n",
    "print(vector.itemsize * vector.size)\n",
    "\n",
    "# 10. Find indices of non-zero elements from [1,2,0,0,4,0]　 (★☆☆)\n",
    "np.nonzero([1, 2, 0, 0, 4, 0])\n",
    "\n",
    "# 11. Create a 3x3 identity matrix (★☆☆)\n",
    "np.eye(3)\n",
    "\n",
    "# 15. Create a 2d array with 1 on the border and 0 inside (★☆☆)\n",
    "vector = np.ones((10, 10))\n",
    "vector[1:-1] = 0\n",
    "\n",
    "# 17. What s the result\n",
    "0 * np.nan, np.nan == np.nan, np.inf > np.nan\n",
    "np.nan - np.nan, np.nan in set([np.nan]), 0.3 == 3 * 0.1\n",
    "\n",
    "# 18. Create a 5x5 matrix with values 1,2,3,4 just below the diagonal (★☆☆)\n",
    "np.diag(np.arange(5) + 1, k=-1)\n",
    "\n",
    "# 19. Create a 8x8 matrix and fill it with a checkerboard pattern (★☆☆)\n",
    "z = np.zeros((8, 8))\n",
    "z[1::2,::2] = 1 #２番目から１つ飛ばしで１を代入を２つ飛ばし\n",
    "z[::2, 1::2] = 1 #始点から１つ飛ばしで１を代入を２列目から２つ飛ばし\n",
    "z\n",
    "\n",
    "# 20. Consider a (6,7,8) shape array, what is the index (x,y,z) of the 100th element?\n",
    "print(np.unravel_index(100, (6,7,8)))\n",
    "\n",
    "# 22. Normalize a 5x5 random matrix (★☆☆)\n",
    "z = np.random.random((5, 5))\n",
    "x = np.random.random((5, 5))\n",
    "(z - np.min(z)) / (np.max(z) - np.min(z)) #正則化\n",
    "(x - np.mean(x)) / np.std(x)              #標準化"
   ]
  },
  {
   "cell_type": "code",
   "execution_count": 37,
   "metadata": {},
   "outputs": [
    {
     "data": {
      "text/plain": [
       "(array([  1.,   0.,   0.,   0.,   0.,   1.,   2.,   2.,   1.,   8.,  17.,\n",
       "         20.,  31.,  46.,  64.,  97., 133., 179., 210., 306., 338., 395.,\n",
       "        447., 549., 573., 589., 635., 633., 593., 625., 539., 567., 446.,\n",
       "        408., 366., 290., 233., 182., 152., 104.,  65.,  57.,  31.,  26.,\n",
       "         14.,   6.,  10.,   3.,   1.,   5.]),\n",
       " array([-0.25715965, -0.17597718, -0.0947947 , -0.01361222,  0.06757026,\n",
       "         0.14875273,  0.22993521,  0.31111769,  0.39230016,  0.47348264,\n",
       "         0.55466512,  0.6358476 ,  0.71703007,  0.79821255,  0.87939503,\n",
       "         0.96057751,  1.04175998,  1.12294246,  1.20412494,  1.28530742,\n",
       "         1.36648989,  1.44767237,  1.52885485,  1.61003733,  1.6912198 ,\n",
       "         1.77240228,  1.85358476,  1.93476724,  2.01594971,  2.09713219,\n",
       "         2.17831467,  2.25949715,  2.34067962,  2.4218621 ,  2.50304458,\n",
       "         2.58422706,  2.66540953,  2.74659201,  2.82777449,  2.90895697,\n",
       "         2.99013944,  3.07132192,  3.1525044 ,  3.23368688,  3.31486935,\n",
       "         3.39605183,  3.47723431,  3.55841678,  3.63959926,  3.72078174,\n",
       "         3.80196422]),\n",
       " <BarContainer object of 50 artists>)"
      ]
     },
     "execution_count": 37,
     "metadata": {},
     "output_type": "execute_result"
    },
    {
     "data": {
      "image/png": "[encoded data removed]",
      "text/plain": [
       "<Figure size 432x288 with 1 Axes>"
      ]
     },
     "metadata": {
      "needs_background": "light"
     },
     "output_type": "display_data"
    }
   ],
   "source": [
    "import matplotlib.pyplot as plt\n",
    "\n",
    "%matplotlib inline\n",
    "\n",
    "v = np.random.normal(2, 0.5, 10000)\n",
    "plt.hist(v, bins=50)\n",
    "plt.show()"
   ]
  }
 ],
 "metadata": {
  "kernelspec": {
   "display_name": "base",
   "language": "python",
   "name": "python3"
  },
  "language_info": {
   "codemirror_mode": {
    "name": "ipython",
    "version": 3
   },
   "file_extension": ".py",
   "mimetype": "text/x-python",
   "name": "python",
   "nbconvert_exporter": "python",
   "pygments_lexer": "ipython3",
   "version": "3.8.8"
  }
 },
 "nbformat": 4,
 "nbformat_minor": 2
}
