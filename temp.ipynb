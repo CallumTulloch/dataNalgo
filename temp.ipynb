{
 "cells": [
  {
   "cell_type": "code",
   "execution_count": 3,
   "metadata": {},
   "outputs": [
    {
     "data": {
      "text/plain": [
       "Counter({'10': 1,\n",
       "         '22': 1,\n",
       "         '31': 1,\n",
       "         '43': 1,\n",
       "         '54': 1,\n",
       "         '16': 1,\n",
       "         '70': 1,\n",
       "         '38': 1,\n",
       "         '49': 1,\n",
       "         '25': 1,\n",
       "         '61': 1,\n",
       "         '72': 1,\n",
       "         '83': 1,\n",
       "         '34': 1,\n",
       "         '45': 1,\n",
       "         '56': 1,\n",
       "         '67': 1,\n",
       "         '18': 1})"
      ]
     },
     "execution_count": 3,
     "metadata": {},
     "output_type": "execute_result"
    }
   ],
   "source": [
    "import collections\n",
    " \n",
    "c= collections.Counter\n",
    "c('10 22 31 43 54 16 70 38 49 25 61 72 83 34 45 56 67 18'.split())"
   ]
  },
  {
   "cell_type": "code",
   "execution_count": 6,
   "metadata": {},
   "outputs": [
    {
     "data": {
      "text/plain": [
       "[0, 10, 20, 30, 40, 50]"
      ]
     },
     "execution_count": 6,
     "metadata": {},
     "output_type": "execute_result"
    }
   ],
   "source": [
    "A = list(map(int, '10 10 10 10 10'.split()))\n",
    "INF = float('inf')\n",
    "# スライムの大きさの累積和を計算\n",
    "acc=[0]\n",
    "for a in A:\n",
    "    acc.append(acc[-1] + a)\n",
    "acc"
   ]
  },
  {
   "cell_type": "code",
   "execution_count": 8,
   "metadata": {},
   "outputs": [
    {
     "data": {
      "text/plain": [
       "44.666666666666664"
      ]
     },
     "execution_count": 8,
     "metadata": {},
     "output_type": "execute_result"
    }
   ],
   "source": [
    "def max_average_partition(N, M, A):\n",
    "    # 区間 [j, i) の平均値を前処理で求める\n",
    "    f = [[0]*(N+1) for _ in range(N+1)]\n",
    "    for i in range(1, N+1):\n",
    "        for j in range(i):\n",
    "            f[j][i] = sum(A[j:i]) / (i - j)\n",
    "\n",
    "    # DP\n",
    "    dp = [[-float('inf')]*(M+1) for _ in range(N+1)]\n",
    "    dp[0][0] = 0\n",
    "    for i in range(1, N+1):\n",
    "        for j in range(i):\n",
    "            for k in range(1, M+1):\n",
    "                dp[i][k] = max(dp[i][k], dp[j][k-1] + f[j][i])\n",
    "\n",
    "    # 最終結果を計算\n",
    "    return max(dp[N])\n",
    "\n",
    "# サンプル入力でテスト\n",
    "max_average_partition(N, M, A)\n",
    "\n",
    "\n",
    "# サンプル入力でテスト\n",
    "N, M = 8, 3\n",
    "A = [11, 18, 9, 20, 4, 18, 12, 14]\n",
    "max_average_partition(N, M, A)\n"
   ]
  },
  {
   "cell_type": "code",
   "execution_count": null,
   "metadata": {},
   "outputs": [],
   "source": []
  }
 ],
 "metadata": {
  "kernelspec": {
   "display_name": "base",
   "language": "python",
   "name": "python3"
  },
  "language_info": {
   "codemirror_mode": {
    "name": "ipython",
    "version": 3
   },
   "file_extension": ".py",
   "mimetype": "text/x-python",
   "name": "python",
   "nbconvert_exporter": "python",
   "pygments_lexer": "ipython3",
   "version": "3.8.8"
  },
  "orig_nbformat": 4
 },
 "nbformat": 4,
 "nbformat_minor": 2
}
