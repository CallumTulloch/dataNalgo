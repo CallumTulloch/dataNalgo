{
 "cells": [
  {
   "cell_type": "code",
   "execution_count": 3,
   "metadata": {},
   "outputs": [
    {
     "data": {
      "text/plain": [
       "Counter({'10': 1,\n",
       "         '22': 1,\n",
       "         '31': 1,\n",
       "         '43': 1,\n",
       "         '54': 1,\n",
       "         '16': 1,\n",
       "         '70': 1,\n",
       "         '38': 1,\n",
       "         '49': 1,\n",
       "         '25': 1,\n",
       "         '61': 1,\n",
       "         '72': 1,\n",
       "         '83': 1,\n",
       "         '34': 1,\n",
       "         '45': 1,\n",
       "         '56': 1,\n",
       "         '67': 1,\n",
       "         '18': 1})"
      ]
     },
     "execution_count": 3,
     "metadata": {},
     "output_type": "execute_result"
    }
   ],
   "source": [
    "import collections\n",
    " \n",
    "c= collections.Counter\n",
    "c('10 22 31 43 54 16 70 38 49 25 61 72 83 34 45 56 67 18'.split())"
   ]
  }
 ],
 "metadata": {
  "kernelspec": {
   "display_name": "base",
   "language": "python",
   "name": "python3"
  },
  "language_info": {
   "codemirror_mode": {
    "name": "ipython",
    "version": 3
   },
   "file_extension": ".py",
   "mimetype": "text/x-python",
   "name": "python",
   "nbconvert_exporter": "python",
   "pygments_lexer": "ipython3",
   "version": "3.8.8"
  },
  "orig_nbformat": 4
 },
 "nbformat": 4,
 "nbformat_minor": 2
}
